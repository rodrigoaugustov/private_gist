{
  "nbformat": 4,
  "nbformat_minor": 0,
  "metadata": {
    "colab": {
      "provenance": []
    },
    "kernelspec": {
      "name": "python3",
      "display_name": "Python 3"
    },
    "language_info": {
      "name": "python"
    }
  },
  "cells": [
    {
      "cell_type": "code",
      "execution_count": 1,
      "metadata": {
        "colab": {
          "base_uri": "https://localhost:8080/"
        },
        "id": "5UsL4PKxmrOm",
        "outputId": "b35886a3-8a6b-44f7-ec1a-dbc3eb8160e8"
      },
      "outputs": [
        {
          "output_type": "stream",
          "name": "stdout",
          "text": [
            "Collecting pyspark\n",
            "  Downloading pyspark-3.4.1.tar.gz (310.8 MB)\n",
            "\u001b[2K     \u001b[90m━━━━━━━━━━━━━━━━━━━━━━━━━━━━━━━━━━━━━━━\u001b[0m \u001b[32m310.8/310.8 MB\u001b[0m \u001b[31m2.1 MB/s\u001b[0m eta \u001b[36m0:00:00\u001b[0m\n",
            "\u001b[?25h  Preparing metadata (setup.py) ... \u001b[?25l\u001b[?25hdone\n",
            "Requirement already satisfied: py4j==0.10.9.7 in /usr/local/lib/python3.10/dist-packages (from pyspark) (0.10.9.7)\n",
            "Building wheels for collected packages: pyspark\n",
            "  Building wheel for pyspark (setup.py) ... \u001b[?25l\u001b[?25hdone\n",
            "  Created wheel for pyspark: filename=pyspark-3.4.1-py2.py3-none-any.whl size=311285387 sha256=4089907a2318453af6fc2252e4da7284c4a4a98af4784e047e8ea9cdaaf83e7b\n",
            "  Stored in directory: /root/.cache/pip/wheels/0d/77/a3/ff2f74cc9ab41f8f594dabf0579c2a7c6de920d584206e0834\n",
            "Successfully built pyspark\n",
            "Installing collected packages: pyspark\n",
            "Successfully installed pyspark-3.4.1\n"
          ]
        }
      ],
      "source": [
        "!pip install pyspark"
      ]
    },
    {
      "cell_type": "code",
      "source": [
        "import random\n",
        "from pyspark.sql import SparkSession\n",
        "import pyspark.sql.functions as f\n",
        "from pyspark.sql import Window\n",
        "\n",
        "# Inicialize a sessão do Spark\n",
        "spark = SparkSession.builder \\\n",
        "    .appName(\"ExemploDataFrameSpark\") \\\n",
        "    .getOrCreate()"
      ],
      "metadata": {
        "id": "iIkarYOfn-2l"
      },
      "execution_count": 3,
      "outputs": []
    },
    {
      "cell_type": "code",
      "source": [
        "# Defina o número mínimo de registros desejados\n",
        "num_registros = 10000\n",
        "\n",
        "# Gere os dados aleatórios\n",
        "data = []\n",
        "for i in range(num_registros):\n",
        "    data.append((\n",
        "        i,  # ID\n",
        "        random.randint(1, 4),             # Cluster1\n",
        "        random.randint(1, 10),            # Cluster2\n",
        "        round(random.uniform(150.00, 5000.00), 2),  # Valor\n",
        "        round(random.uniform(0.20, 0.40), 2)      # Desconto\n",
        "    ))\n",
        "\n",
        "# Crie o DataFrame\n",
        "columns = [\"ID\", \"Cluster1\", \"Cluster2\", \"Valor\", \"Desconto\"]\n",
        "df = spark.createDataFrame(data, columns)"
      ],
      "metadata": {
        "id": "hQCjBSBXoBhX"
      },
      "execution_count": 4,
      "outputs": []
    },
    {
      "cell_type": "code",
      "source": [
        "# Parametros\n",
        "\n",
        "meta_valor = 5000000\n",
        "meta_qtd = 3000\n",
        "desconto_maximo = 0.7\n",
        "MULTIPLICADOR = 2"
      ],
      "metadata": {
        "id": "U8c_1y6ooYiV"
      },
      "execution_count": 173,
      "outputs": []
    },
    {
      "cell_type": "code",
      "source": [
        "def aplica_desconto(valor, desconto):\n",
        "    return f.round(f.col(valor) * (1 - f.col(desconto)), 2)"
      ],
      "metadata": {
        "id": "3mnXShdju31C"
      },
      "execution_count": 69,
      "outputs": []
    },
    {
      "cell_type": "code",
      "source": [
        "window = Window.orderBy('Cluster1', 'Cluster2', f.desc('Valor')).rangeBetween(Window.unboundedPreceding, 0)"
      ],
      "metadata": {
        "id": "B933eO2mq0sf"
      },
      "execution_count": 68,
      "outputs": []
    },
    {
      "cell_type": "code",
      "source": [
        "df1 = df.sort('Cluster1', 'Cluster2', f.desc('Valor'))\\\n",
        "        .withColumn('valorDescontado', aplica_desconto('Valor', 'Desconto'))\\\n",
        "        .withColumn('multiplicador', f.lit(MULTIPLICADOR))\\\n",
        "        .withColumn('desconto_majorado', f.col('Desconto') * f.col(\"multiplicador\"))\\\n",
        "        .withColumn('valorDescontadoAjustado', aplica_desconto('Valor', 'desconto_majorado'))\\\n",
        "        .withColumn('somaAcumulada', f.round(f.sum('valorDescontado').over(window), 2))\\\n",
        "        .withColumn('qtdAcumulada', f.round(f.count('*').over(window), 2))\\\n",
        "        .withColumn('multiplicador_final', f.when( (f.col('somaAcumulada') <=  meta_valor) | (f.col('qtdAcumulada') <= meta_qtd), f.col('multiplicador'))\\\n",
        "                                         .otherwise(f.lit(1))\n",
        "                   )\\\n",
        "        .withColumn('descontoAplicado', f.col('Desconto') * f.col('multiplicador_final'))\\\n",
        "        .withColumn('valorDescontadoAplicado', aplica_desconto('Valor', 'descontoAplicado'))\\\n",
        "        .withColumn('regraDesconto', f.when( (f.col('somaAcumulada') <=  meta_valor) | (f.col('qtdAcumulada') <= meta_qtd), f.lit(1))\\\n",
        "                                      .otherwise(f.lit(2))\n",
        "                   )"
      ],
      "metadata": {
        "id": "4Mo6awjQpJWK"
      },
      "execution_count": 241,
      "outputs": []
    },
    {
      "cell_type": "code",
      "source": [
        "df1.show()"
      ],
      "metadata": {
        "colab": {
          "base_uri": "https://localhost:8080/"
        },
        "id": "9dmcxFTWrUqP",
        "outputId": "61cf2113-29f4-4323-c94c-965afa5e4d4a"
      },
      "execution_count": 242,
      "outputs": [
        {
          "output_type": "stream",
          "name": "stdout",
          "text": [
            "+----+--------+--------+-------+--------+---------------+-------------+-----------------+-----------------------+-------------+------------+-------------------+----------------+-----------------------+-------------+\n",
            "|  ID|Cluster1|Cluster2|  Valor|Desconto|valorDescontado|multiplicador|desconto_majorado|valorDescontadoAjustado|somaAcumulada|qtdAcumulada|multiplicador_final|descontoAplicado|valorDescontadoAplicado|regraDesconto|\n",
            "+----+--------+--------+-------+--------+---------------+-------------+-----------------+-----------------------+-------------+------------+-------------------+----------------+-----------------------+-------------+\n",
            "|7692|       1|       1|4973.22|    0.32|        3381.79|            2|             0.64|                1790.36|      3381.79|           1|                  2|            0.64|                1790.36|            1|\n",
            "|1388|       1|       1|4970.31|    0.36|         3181.0|            2|             0.72|                1391.69|      6562.79|           2|                  2|            0.72|                1391.69|            1|\n",
            "| 123|       1|       1|4966.24|    0.34|        3277.72|            2|             0.68|                 1589.2|      9840.51|           3|                  2|            0.68|                 1589.2|            1|\n",
            "|1486|       1|       1|4947.23|    0.23|        3809.37|            2|             0.46|                 2671.5|     13649.88|           4|                  2|            0.46|                 2671.5|            1|\n",
            "|4809|       1|       1|4910.83|    0.35|        3192.04|            2|              0.7|                1473.25|     16841.92|           5|                  2|             0.7|                1473.25|            1|\n",
            "|3857|       1|       1|4906.16|    0.36|        3139.94|            2|             0.72|                1373.72|     19981.86|           6|                  2|            0.72|                1373.72|            1|\n",
            "|1590|       1|       1|4901.34|     0.2|        3921.07|            2|              0.4|                 2940.8|     23902.93|           7|                  2|             0.4|                 2940.8|            1|\n",
            "|3359|       1|       1|4870.96|    0.29|        3458.38|            2|             0.58|                 2045.8|     27361.31|           8|                  2|            0.58|                 2045.8|            1|\n",
            "|3169|       1|       1|4865.62|     0.2|         3892.5|            2|              0.4|                2919.37|     31253.81|           9|                  2|             0.4|                2919.37|            1|\n",
            "|  72|       1|       1|4856.31|    0.25|        3642.23|            2|              0.5|                2428.16|     34896.04|          10|                  2|             0.5|                2428.16|            1|\n",
            "| 274|       1|       1|4813.57|    0.24|        3658.31|            2|             0.48|                2503.06|     38554.35|          11|                  2|            0.48|                2503.06|            1|\n",
            "|3641|       1|       1|4809.06|    0.29|        3414.43|            2|             0.58|                2019.81|     41968.78|          12|                  2|            0.58|                2019.81|            1|\n",
            "|2246|       1|       1|4804.02|    0.35|        3122.61|            2|              0.7|                1441.21|     45091.39|          13|                  2|             0.7|                1441.21|            1|\n",
            "| 249|       1|       1| 4798.7|    0.21|        3790.97|            2|             0.42|                2783.25|     48882.36|          14|                  2|            0.42|                2783.25|            1|\n",
            "|3931|       1|       1|4783.21|    0.38|        2965.59|            2|             0.76|                1147.97|     51847.95|          15|                  2|            0.76|                1147.97|            1|\n",
            "|2200|       1|       1|4774.71|    0.34|        3151.31|            2|             0.68|                1527.91|     54999.26|          16|                  2|            0.68|                1527.91|            1|\n",
            "| 617|       1|       1|4771.88|    0.24|        3626.63|            2|             0.48|                2481.38|     58625.89|          17|                  2|            0.48|                2481.38|            1|\n",
            "|3764|       1|       1|4756.56|    0.33|         3186.9|            2|             0.66|                1617.23|     61812.79|          18|                  2|            0.66|                1617.23|            1|\n",
            "|8361|       1|       1|4753.52|    0.25|        3565.14|            2|              0.5|                2376.76|     65377.93|          19|                  2|             0.5|                2376.76|            1|\n",
            "| 218|       1|       1|4675.92|    0.28|        3366.66|            2|             0.56|                 2057.4|     68744.59|          20|                  2|            0.56|                 2057.4|            1|\n",
            "+----+--------+--------+-------+--------+---------------+-------------+-----------------+-----------------------+-------------+------------+-------------------+----------------+-----------------------+-------------+\n",
            "only showing top 20 rows\n",
            "\n"
          ]
        }
      ]
    },
    {
      "cell_type": "code",
      "source": [
        "desconto_global = 1 - (df1.groupBy().sum('valorDescontadoAplicado').collect()[0][0] / df1.groupBy().sum('Valor').collect()[0][0])"
      ],
      "metadata": {
        "id": "xdOemlPKtAoB"
      },
      "execution_count": 114,
      "outputs": []
    },
    {
      "cell_type": "code",
      "source": [
        "desconto_global"
      ],
      "metadata": {
        "colab": {
          "base_uri": "https://localhost:8080/"
        },
        "id": "Aa1bRubk-F85",
        "outputId": "d672c7e2-cf3b-4f95-b024-f20b793f5936"
      },
      "execution_count": 115,
      "outputs": [
        {
          "output_type": "execute_result",
          "data": {
            "text/plain": [
              "0.3920539498876615"
            ]
          },
          "metadata": {},
          "execution_count": 115
        }
      ]
    },
    {
      "cell_type": "code",
      "source": [
        "desconto_maximo_g1 = ( df1.where('regraDesconto = 1').groupBy().sum('Valor').collect()[0][0] * desconto_maximo )\n",
        "desconto_maximo_g2 = ( df1.where('regraDesconto <> 1').groupBy().sum('Valor').collect()[0][0] * desconto_maximo )\n",
        "desconto_utilizado_g1 = ( df1.where('regraDesconto = 1').groupBy().sum('Valor').collect()[0][0] - df1.where('regraDesconto = 1').groupBy().sum('valorDescontadoAplicado').collect()[0][0] )\n",
        "desconto_utilizado_g2 = ( df1.where('regraDesconto <> 1').groupBy().sum('Valor').collect()[0][0] - df1.where('regraDesconto <> 1').groupBy().sum('valorDescontadoAplicado').collect()[0][0] )"
      ],
      "metadata": {
        "id": "xK5ku20EOSrX"
      },
      "execution_count": 231,
      "outputs": []
    },
    {
      "cell_type": "code",
      "source": [
        "# Valor de Desconto Restante (Potencial de Desconto Regra2 +/- Desconto Restante/Excedente da Regra1 )\n",
        "\n",
        "desconto_disponivel = desconto_maximo_g1 + ( desconto_maximo_g2 - desconto_utilizado_g1 )"
      ],
      "metadata": {
        "id": "rM6GHPUcIpdq"
      },
      "execution_count": 232,
      "outputs": []
    },
    {
      "cell_type": "code",
      "source": [
        "# Multiplicador que levará à utilização de 100% do desconto disponivel é obtido da razao entre o disponivel e o já utilizado no grupo\n",
        "\n",
        "if desconto_global <= desconto_maximo:\n",
        "    multiplicador_ajuste = desconto_disponivel / desconto_utilizado_g2\n",
        "else:\n",
        "    multiplicador_ajuste = 1"
      ],
      "metadata": {
        "id": "WbfWoVRXtEOk"
      },
      "execution_count": 234,
      "outputs": []
    },
    {
      "cell_type": "code",
      "source": [
        "df2 = df1.withColumn('multiplicador_final', f.when(f.col('regraDesconto') == 1, f.col('multiplicador_final'))\\\n",
        "                                             .otherwise(f.lit(multiplicador_ajuste))\n",
        "                     )\\\n",
        "         .withColumn('descontoAplicado', f.col('Desconto') * f.col('multiplicador_final'))\\\n",
        "         .withColumn('valorDescontadoAplicado', aplica_desconto('Valor', 'descontoAplicado'))"
      ],
      "metadata": {
        "id": "RjpX7axXrVo1"
      },
      "execution_count": 235,
      "outputs": []
    },
    {
      "cell_type": "code",
      "source": [
        "df2.show()"
      ],
      "metadata": {
        "colab": {
          "base_uri": "https://localhost:8080/"
        },
        "id": "hvftoyXZ8x7l",
        "outputId": "858ad42b-1d3f-4baa-e306-12da93464f2f"
      },
      "execution_count": 236,
      "outputs": [
        {
          "output_type": "stream",
          "name": "stdout",
          "text": [
            "+----+--------+--------+-------+--------+---------------+-------------+-----------------+-----------------------+-------------+------------+-------------------+----------------+-----------------------+-------------+\n",
            "|  ID|Cluster1|Cluster2|  Valor|Desconto|valorDescontado|multiplicador|desconto_majorado|valorDescontadoAjustado|somaAcumulada|qtdAcumulada|multiplicador_final|descontoAplicado|valorDescontadoAplicado|regraDesconto|\n",
            "+----+--------+--------+-------+--------+---------------+-------------+-----------------+-----------------------+-------------+------------+-------------------+----------------+-----------------------+-------------+\n",
            "|7692|       1|       1|4973.22|    0.32|        3381.79|            2|             0.64|                1790.36|      3381.79|           1|                2.0|            0.64|                1790.36|            1|\n",
            "|1388|       1|       1|4970.31|    0.36|         3181.0|            2|             0.72|                1391.69|      6562.79|           2|                2.0|            0.72|                1391.69|            1|\n",
            "| 123|       1|       1|4966.24|    0.34|        3277.72|            2|             0.68|                 1589.2|      9840.51|           3|                2.0|            0.68|                 1589.2|            1|\n",
            "|1486|       1|       1|4947.23|    0.23|        3809.37|            2|             0.46|                 2671.5|     13649.88|           4|                2.0|            0.46|                 2671.5|            1|\n",
            "|4809|       1|       1|4910.83|    0.35|        3192.04|            2|              0.7|                1473.25|     16841.92|           5|                2.0|             0.7|                1473.25|            1|\n",
            "|3857|       1|       1|4906.16|    0.36|        3139.94|            2|             0.72|                1373.72|     19981.86|           6|                2.0|            0.72|                1373.72|            1|\n",
            "|1590|       1|       1|4901.34|     0.2|        3921.07|            2|              0.4|                 2940.8|     23902.93|           7|                2.0|             0.4|                 2940.8|            1|\n",
            "|3359|       1|       1|4870.96|    0.29|        3458.38|            2|             0.58|                 2045.8|     27361.31|           8|                2.0|            0.58|                 2045.8|            1|\n",
            "|3169|       1|       1|4865.62|     0.2|         3892.5|            2|              0.4|                2919.37|     31253.81|           9|                2.0|             0.4|                2919.37|            1|\n",
            "|  72|       1|       1|4856.31|    0.25|        3642.23|            2|              0.5|                2428.16|     34896.04|          10|                2.0|             0.5|                2428.16|            1|\n",
            "| 274|       1|       1|4813.57|    0.24|        3658.31|            2|             0.48|                2503.06|     38554.35|          11|                2.0|            0.48|                2503.06|            1|\n",
            "|3641|       1|       1|4809.06|    0.29|        3414.43|            2|             0.58|                2019.81|     41968.78|          12|                2.0|            0.58|                2019.81|            1|\n",
            "|2246|       1|       1|4804.02|    0.35|        3122.61|            2|              0.7|                1441.21|     45091.39|          13|                2.0|             0.7|                1441.21|            1|\n",
            "| 249|       1|       1| 4798.7|    0.21|        3790.97|            2|             0.42|                2783.25|     48882.36|          14|                2.0|            0.42|                2783.25|            1|\n",
            "|3931|       1|       1|4783.21|    0.38|        2965.59|            2|             0.76|                1147.97|     51847.95|          15|                2.0|            0.76|                1147.97|            1|\n",
            "|2200|       1|       1|4774.71|    0.34|        3151.31|            2|             0.68|                1527.91|     54999.26|          16|                2.0|            0.68|                1527.91|            1|\n",
            "| 617|       1|       1|4771.88|    0.24|        3626.63|            2|             0.48|                2481.38|     58625.89|          17|                2.0|            0.48|                2481.38|            1|\n",
            "|3764|       1|       1|4756.56|    0.33|         3186.9|            2|             0.66|                1617.23|     61812.79|          18|                2.0|            0.66|                1617.23|            1|\n",
            "|8361|       1|       1|4753.52|    0.25|        3565.14|            2|              0.5|                2376.76|     65377.93|          19|                2.0|             0.5|                2376.76|            1|\n",
            "| 218|       1|       1|4675.92|    0.28|        3366.66|            2|             0.56|                 2057.4|     68744.59|          20|                2.0|            0.56|                 2057.4|            1|\n",
            "+----+--------+--------+-------+--------+---------------+-------------+-----------------+-----------------------+-------------+------------+-------------------+----------------+-----------------------+-------------+\n",
            "only showing top 20 rows\n",
            "\n"
          ]
        }
      ]
    },
    {
      "cell_type": "code",
      "source": [
        "df2.where('regraDesconto <> 1').show()"
      ],
      "metadata": {
        "colab": {
          "base_uri": "https://localhost:8080/"
        },
        "id": "tYoZxWP6A9MY",
        "outputId": "9e620e3c-500c-4271-d227-e224ebb1ae34"
      },
      "execution_count": 237,
      "outputs": [
        {
          "output_type": "stream",
          "name": "stdout",
          "text": [
            "+----+--------+--------+-------+--------+---------------+-------------+-----------------+-----------------------+-------------+------------+-------------------+------------------+-----------------------+-------------+\n",
            "|  ID|Cluster1|Cluster2|  Valor|Desconto|valorDescontado|multiplicador|desconto_majorado|valorDescontadoAjustado|somaAcumulada|qtdAcumulada|multiplicador_final|  descontoAplicado|valorDescontadoAplicado|regraDesconto|\n",
            "+----+--------+--------+-------+--------+---------------+-------------+-----------------+-----------------------+-------------+------------+-------------------+------------------+-----------------------+-------------+\n",
            "|5277|       2|       2| 347.72|    0.27|         253.84|            2|             0.54|                 159.95|   5507064.36|        3001| 2.4769870998595267|0.6687865169620723|                 115.17|            2|\n",
            "|7935|       2|       2|  325.3|    0.34|          214.7|            2|             0.68|                  104.1|   5507279.06|        3002| 2.4769870998595267|0.8421756139522392|                  51.34|            2|\n",
            "|7185|       2|       2| 323.21|    0.23|         248.87|            2|             0.46|                 174.53|   5507527.93|        3003| 2.4769870998595267|0.5697070329676912|                 139.07|            2|\n",
            "|3738|       2|       2| 312.91|    0.26|         231.55|            2|             0.52|                  150.2|   5507759.48|        3004| 2.4769870998595267| 0.644016645963477|                 111.39|            2|\n",
            "|6977|       2|       2| 296.65|    0.25|         222.49|            2|              0.5|                 148.33|   5507981.97|        3005| 2.4769870998595267|0.6192467749648817|                 112.95|            2|\n",
            "|9917|       2|       2| 257.45|    0.31|         177.64|            2|             0.62|                  97.83|   5508159.61|        3006| 2.4769870998595267|0.7678660009564533|                  59.76|            2|\n",
            "|6537|       2|       2| 236.68|    0.28|         170.41|            2|             0.56|                 104.14|   5508330.02|        3007| 2.4769870998595267|0.6935563879606675|                  72.53|            2|\n",
            "|3369|       2|       2| 187.28|    0.29|         132.97|            2|             0.58|                  78.66|   5508462.99|        3008| 2.4769870998595267|0.7183262589592627|                  52.75|            2|\n",
            "|2912|       2|       2|  182.3|    0.24|         138.55|            2|             0.48|                   94.8|   5508601.54|        3009| 2.4769870998595267|0.5944769039662864|                  73.93|            2|\n",
            "|1882|       2|       2| 168.72|    0.32|         114.73|            2|             0.64|                  60.74|   5508716.27|        3010| 2.4769870998595267|0.7926358719550486|                  34.99|            2|\n",
            "|2136|       2|       2| 160.09|    0.37|         100.86|            2|             0.74|                  41.62|   5508817.13|        3011| 2.4769870998595267|0.9164852269480249|                  13.37|            2|\n",
            "|6476|       2|       3|4997.26|    0.32|        3398.14|            2|             0.64|                1799.01|   5512215.27|        3012| 2.4769870998595267|0.7926358719550486|                1036.25|            2|\n",
            "|7209|       2|       3|4994.79|    0.33|        3346.51|            2|             0.66|                1698.23|   5515561.78|        3013| 2.4769870998595267|0.8174057429536439|                 912.02|            2|\n",
            "|3618|       2|       3|4983.83|    0.38|        3089.97|            2|             0.76|                1196.12|   5518651.75|        3014| 2.4769870998595267|0.9412550979466201|                 292.77|            2|\n",
            "|7098|       2|       3|4905.27|    0.33|        3286.53|            2|             0.66|                1667.79|   5521938.28|        3015| 2.4769870998595267|0.8174057429536439|                 895.67|            2|\n",
            "|2914|       2|       3|4870.74|    0.36|        3117.27|            2|             0.72|                1363.81|   5525055.55|        3016| 2.4769870998595267|0.8917153559494296|                 527.43|            2|\n",
            "|4116|       2|       3| 4840.9|    0.33|         3243.4|            2|             0.66|                1645.91|   5528298.95|        3017| 2.4769870998595267|0.8174057429536439|                 883.92|            2|\n",
            "|1890|       2|       3|4809.46|    0.26|         3559.0|            2|             0.52|                2308.54|   5531857.95|        3018| 2.4769870998595267| 0.644016645963477|                1712.09|            2|\n",
            "|5366|       2|       3|4744.32|    0.39|        2894.04|            2|             0.78|                1043.75|   5534751.99|        3019| 2.4769870998595267|0.9660249689452154|                 161.19|            2|\n",
            "|4156|       2|       3|4724.83|     0.3|        3307.38|            2|              0.6|                1889.93|   5538059.37|        3020| 2.4769870998595267| 0.743096129957858|                1213.83|            2|\n",
            "+----+--------+--------+-------+--------+---------------+-------------+-----------------+-----------------------+-------------+------------+-------------------+------------------+-----------------------+-------------+\n",
            "only showing top 20 rows\n",
            "\n"
          ]
        }
      ]
    },
    {
      "cell_type": "code",
      "source": [
        "# Desconto Global\n",
        "1- (df2.groupBy().sum('valorDescontadoAplicado').collect()[0][0] / df2.groupBy().sum('Valor').collect()[0][0])"
      ],
      "metadata": {
        "colab": {
          "base_uri": "https://localhost:8080/"
        },
        "id": "IFgZ_mzG89V0",
        "outputId": "fed97c2e-8446-404a-b119-bce6b00b8d85"
      },
      "execution_count": 238,
      "outputs": [
        {
          "output_type": "execute_result",
          "data": {
            "text/plain": [
              "0.7000000382205231"
            ]
          },
          "metadata": {},
          "execution_count": 238
        }
      ]
    },
    {
      "cell_type": "code",
      "source": [
        "1- (df2.where('regraDesconto <> 1').groupBy().sum('valorDescontadoAplicado').collect()[0][0] / df2.where('regraDesconto <> 1').groupBy().sum('Valor').collect()[0][0])"
      ],
      "metadata": {
        "colab": {
          "base_uri": "https://localhost:8080/"
        },
        "id": "1cmmM2yh6r-C",
        "outputId": "d56b620e-9bc5-4362-dec3-3e9b6d2679a2"
      },
      "execution_count": 239,
      "outputs": [
        {
          "output_type": "execute_result",
          "data": {
            "text/plain": [
              "0.7421890532307414"
            ]
          },
          "metadata": {},
          "execution_count": 239
        }
      ]
    },
    {
      "cell_type": "code",
      "source": [
        "1- (df2.where('regraDesconto = 1').groupBy().sum('valorDescontadoAplicado').collect()[0][0] / df2.where('regraDesconto = 1').groupBy().sum('Valor').collect()[0][0])"
      ],
      "metadata": {
        "colab": {
          "base_uri": "https://localhost:8080/"
        },
        "id": "Fjc34N6aCTRQ",
        "outputId": "42ff393f-5193-4623-a115-8d78392ae553"
      },
      "execution_count": 240,
      "outputs": [
        {
          "output_type": "execute_result",
          "data": {
            "text/plain": [
              "0.6034840256981681"
            ]
          },
          "metadata": {},
          "execution_count": 240
        }
      ]
    },
    {
      "cell_type": "code",
      "source": [],
      "metadata": {
        "id": "MDUXom4MQAFW"
      },
      "execution_count": null,
      "outputs": []
    }
  ]
}