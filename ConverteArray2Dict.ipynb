{
  "nbformat": 4,
  "nbformat_minor": 0,
  "metadata": {
    "colab": {
      "provenance": []
    },
    "kernelspec": {
      "name": "python3",
      "display_name": "Python 3"
    },
    "language_info": {
      "name": "python"
    }
  },
  "cells": [
    {
      "cell_type": "code",
      "source": [
        "from pyspark.sql import SparkSession\n",
        "# Cria uma SparkSession\n",
        "spark = SparkSession.builder.appName(\"TransformacaoPosicionalParaJson\").getOrCreate()"
      ],
      "metadata": {
        "id": "tMhxtqqu_hlA"
      },
      "execution_count": 1,
      "outputs": []
    },
    {
      "cell_type": "code",
      "source": [
        "# Criando o dataframe de exemplo\n",
        "df = spark.createDataFrame([([\"Valor1\", \"Valor2\"], [\"Valor3\", \"Valor4\"])], [\"CampoA\", \"CampoB\"])\n",
        "df.show()"
      ],
      "metadata": {
        "colab": {
          "base_uri": "https://localhost:8080/"
        },
        "id": "ql9lZ-y1jVDR",
        "outputId": "9d537d94-ab35-45a5-fa04-195341682812"
      },
      "execution_count": 2,
      "outputs": [
        {
          "output_type": "stream",
          "name": "stdout",
          "text": [
            "+----------------+----------------+\n",
            "|          CampoA|          CampoB|\n",
            "+----------------+----------------+\n",
            "|[Valor1, Valor2]|[Valor3, Valor4]|\n",
            "+----------------+----------------+\n",
            "\n"
          ]
        }
      ]
    },
    {
      "cell_type": "code",
      "source": [
        "from typing import List, Dict\n",
        "from pyspark.sql.functions import *\n",
        "\n",
        "def converte_array(df) -> List[Dict]:\n",
        "    \"\"\"\n",
        "    Converte as colunas do tipo Array para uma lista de dicionário\n",
        "    \n",
        "    No dataframe de entrada a colunas estão no seguinte formato\n",
        "    colunaA: [ValorColA1, ValorColA2,..]\n",
        "    colunaB: [ValorColB1, ValorColB2,..]\n",
        "\n",
        "    O dicionário de saída é retornado no seguinte formato\n",
        "    lista_dict = [{\"colunaA\":ValorColA1, \"colunaB\":ValorColB1}, \n",
        "                  {\"colunaA\":ValorColA2, \"colunaB\":ValorColB2}]\n",
        "    \"\"\"\n",
        "\n",
        "    # verifica se todas as colunas sao um array\n",
        "    if not all([tipo[1] == 'array<string>' for tipo in df.dtypes]):\n",
        "      raise ValueError('Todas as colunas do dataframe de entrada devem ser do tipo Array')\n",
        "\n",
        "    # selecionar todas as colunas do DataFrame e aplicar o arrays_zip para criar uma nova coluna Zip\n",
        "    df_with_zip = df.selectExpr(\"*\", \"arrays_zip(*) as Zip\")\n",
        "\n",
        "    # aplicar o explode na coluna Zip para expandir as listas em cada linha\n",
        "    df_exploded = df_with_zip.select(explode(\"Zip\").alias(\"Exploded\"))\n",
        "\n",
        "    # selecionar os elementos das listas expandidas e criar uma lista de dicionários\n",
        "    lista_dict = [dict(zip(df.columns, row[\"Exploded\"])) for row in df_exploded.collect()]\n",
        "\n",
        "    return lista_dict"
      ],
      "metadata": {
        "id": "q4Y7n8LXt5sB"
      },
      "execution_count": 5,
      "outputs": []
    },
    {
      "cell_type": "code",
      "source": [
        "json_principal = {\"Atributo1\": 1, \"Atributo2\": 2}"
      ],
      "metadata": {
        "id": "mwBklgasm-cX"
      },
      "execution_count": 6,
      "outputs": []
    },
    {
      "cell_type": "code",
      "source": [
        "listas_ = {\"lista_a\": df}\n",
        "\n",
        "for lista in listas_:\n",
        "  lista_json = converte_array(listas_[lista])\n",
        "  json_principal[lista] = lista_json"
      ],
      "metadata": {
        "id": "nIDxljDypguY"
      },
      "execution_count": 7,
      "outputs": []
    },
    {
      "cell_type": "code",
      "source": [
        "json_principal"
      ],
      "metadata": {
        "colab": {
          "base_uri": "https://localhost:8080/"
        },
        "id": "ctiMpmgxop4j",
        "outputId": "78a2a8a6-6422-4968-bf2a-2313fdc6e014"
      },
      "execution_count": 8,
      "outputs": [
        {
          "output_type": "execute_result",
          "data": {
            "text/plain": [
              "{'Atributo1': 1,\n",
              " 'Atributo2': 2,\n",
              " 'lista_a': [{'CampoA': 'Valor1', 'CampoB': 'Valor3'},\n",
              "  {'CampoA': 'Valor2', 'CampoB': 'Valor4'}]}"
            ]
          },
          "metadata": {},
          "execution_count": 8
        }
      ]
    },
    {
      "cell_type": "code",
      "source": [
        "import unittest\n",
        "from pyspark.sql import SparkSession\n",
        "from typing import List, Dict\n",
        "\n",
        "class TestConverteArray(unittest.TestCase):\n",
        "\n",
        "    def setUp(self) -> None:\n",
        "        self.spark = SparkSession.builder.appName(\"TestConverteArray\").getOrCreate()\n",
        "        self.df = self.spark.createDataFrame([\n",
        "            ([\"ValorA1\", \"ValorA2\"], [\"ValorB1\", \"ValorB2\"]),\n",
        "            ([\"ValorA3\", \"ValorA4\"], [\"ValorB3\", \"ValorB4\"])\n",
        "        ], [\"colunaA\", \"colunaB\"])\n",
        "\n",
        "    def tearDown(self) -> None:\n",
        "        self.spark.stop()\n",
        "\n",
        "    def test_converte_array(self):\n",
        "        \"\"\"\n",
        "        Testa se a função converte_array retorna a lista de dicionários correta.\n",
        "        \"\"\"\n",
        "        expected_output = [\n",
        "            {\"colunaA\": \"ValorA1\", \"colunaB\": \"ValorB1\"},\n",
        "            {\"colunaA\": \"ValorA2\", \"colunaB\": \"ValorB2\"},\n",
        "            {\"colunaA\": \"ValorA3\", \"colunaB\": \"ValorB3\"},\n",
        "            {\"colunaA\": \"ValorA4\", \"colunaB\": \"ValorB4\"}\n",
        "        ]\n",
        "        output = converte_array(self.df)\n",
        "        self.assertEqual(expected_output, output)\n",
        "\n",
        "    def test_converte_array_coluna_invalida(self):\n",
        "        \"\"\"\n",
        "        Testa se a função converte_array gera uma exceção para uma coluna que não é do tipo Array.\n",
        "        \"\"\"\n",
        "        df_invalido = self.spark.createDataFrame([\n",
        "            (1, [\"ValorB1\", \"ValorB2\"])\n",
        "        ], [\"colunaA\", \"colunaB\"])\n",
        "        with self.assertRaises(ValueError):\n",
        "            converte_array(df_invalido)\n",
        "\n",
        "    def test_converte_array_valores_nulos(self):\n",
        "        \"\"\"\n",
        "        Testa se a função converte_array lida corretamente com valores nulos nas colunas do DataFrame.\n",
        "        \"\"\"\n",
        "        df_nulos = self.spark.createDataFrame([\n",
        "            ([\"ValorA1\", None], [\"ValorB1\", \"ValorB2\"]),\n",
        "            ([\"ValorA3\", \"ValorA4\"], [None, \"ValorB4\"])\n",
        "        ], [\"colunaA\", \"colunaB\"])\n",
        "        expected_output = [\n",
        "            {\"colunaA\": \"ValorA1\", \"colunaB\": \"ValorB1\"},\n",
        "            {\"colunaA\": None, \"colunaB\": \"ValorB2\"},\n",
        "            {\"colunaA\": \"ValorA3\", \"colunaB\": None},\n",
        "            {\"colunaA\": \"ValorA4\", \"colunaB\": \"ValorB4\"}\n",
        "        ]\n",
        "        output = converte_array(df_nulos)\n",
        "        self.assertEqual(expected_output, output)\n",
        "\n",
        "    def test_converte_array_apenas_uma_linha(self):\n",
        "        \"\"\"\n",
        "        Testa se a função converte_array retorna uma lista com apenas um dicionário para um DataFrame com uma única linha.\n",
        "        \"\"\"\n",
        "        df_uma_linha = self.spark.createDataFrame([\n",
        "            ([\"ValorA1\", \"ValorA2\"], [\"ValorB1\", \"ValorB2\"])\n",
        "        ], [\"colunaA\", \"colunaB\"])\n",
        "        expected_output = [\n",
        "            {\"colunaA\": \"ValorA1\", \"colunaB\": \"ValorB1\"},\n",
        "            {\"colunaA\": \"ValorA2\", \"colunaB\": \"ValorB2\"}\n",
        "        ]\n",
        "        output = converte_array(df_uma_linha)\n",
        "        self.assertEqual(expected_output, output)\n"
      ],
      "metadata": {
        "id": "mJs-CDD4zYkQ"
      },
      "execution_count": 9,
      "outputs": []
    },
    {
      "cell_type": "code",
      "source": [
        "test_loader = unittest.TestLoader()\n",
        "suite = test_loader.loadTestsFromTestCase(TestConverteArray)\n",
        "\n",
        "# Executa os casos de teste\n",
        "test_runner = unittest.TextTestRunner(verbosity=2)\n",
        "test_runner.run(suite)"
      ],
      "metadata": {
        "colab": {
          "base_uri": "https://localhost:8080/"
        },
        "id": "QMdQQVJi1qDg",
        "outputId": "6ee6de8f-8f69-4b73-aefc-c661be8e9486"
      },
      "execution_count": 10,
      "outputs": [
        {
          "output_type": "stream",
          "name": "stderr",
          "text": [
            "test_converte_array (__main__.TestConverteArray)\n",
            "Testa se a função converte_array retorna a lista de dicionários correta. ... ok\n",
            "test_converte_array_apenas_uma_linha (__main__.TestConverteArray)\n",
            "Testa se a função converte_array retorna uma lista com apenas um dicionário para um DataFrame com uma única linha. ... ok\n",
            "test_converte_array_coluna_invalida (__main__.TestConverteArray)\n",
            "Testa se a função converte_array gera uma exceção para uma coluna que não é do tipo Array. ... ok\n",
            "test_converte_array_valores_nulos (__main__.TestConverteArray)\n",
            "Testa se a função converte_array lida corretamente com valores nulos nas colunas do DataFrame. ... ok\n",
            "\n",
            "----------------------------------------------------------------------\n",
            "Ran 4 tests in 7.684s\n",
            "\n",
            "OK\n"
          ]
        },
        {
          "output_type": "execute_result",
          "data": {
            "text/plain": [
              "<unittest.runner.TextTestResult run=4 errors=0 failures=0>"
            ]
          },
          "metadata": {},
          "execution_count": 10
        }
      ]
    }
  ]
}